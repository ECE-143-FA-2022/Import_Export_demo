{
 "cells": [
  {
   "cell_type": "markdown",
   "metadata": {},
   "source": [
    "-- Jelena Lor --\n",
    "\n",
    "I am finance professional passionate about Data Science/ Analytics.\n",
    "\n",
    "_May 2019_\n",
    "\n",
    "This is my first attempt at this dataset. I am trying to get better at analyzing and visualizing data. Here I am exploring interactive charts capabilities. <br> \n",
    "Unfortunately interactive widgets do not work with Kaggle servers but you can run it locally to explore the visualizations.\n",
    "<br>\n",
    "<br>\n",
    "Any feedback or comments are highly appreciated!\n"
   ]
  },
  {
   "cell_type": "markdown",
   "metadata": {},
   "source": [
    "-- Jacob Ayers --\n",
    "<br>\n",
    "_October_2022_\n",
    "<br>\n",
    "Lightly modified for the Correlates of War project's Trade (v4.0) dataset"
   ]
  },
  {
   "cell_type": "markdown",
   "metadata": {},
   "source": [
    "__Table of Content__\n",
    "\n",
    "1. Library Import\n",
    "2. Data Import\n",
    "3. Data Wrangling\n",
    "4. Code\n",
    "5. Visualisation"
   ]
  },
  {
   "cell_type": "markdown",
   "metadata": {},
   "source": [
    "\n"
   ]
  },
  {
   "cell_type": "markdown",
   "metadata": {},
   "source": [
    "## 1. Library Import"
   ]
  },
  {
   "cell_type": "code",
   "execution_count": 46,
   "metadata": {},
   "outputs": [],
   "source": [
    "import pandas as pd\n",
    "import numpy as np\n",
    "import seaborn as sns\n",
    "sns.set_style(\"whitegrid\",{'axes.axisbelow': False,'grid.color': 'w','axes.spines.bottom': False, 'axes.spines.left': False, 'axes.spines.right': False,\n",
    " 'axes.spines.top': False})\n",
    "import matplotlib.pyplot as plt\n",
    "from ipywidgets import interact, interactive, widgets, Layout\n",
    "import geopandas as gpd"
   ]
  },
  {
   "cell_type": "markdown",
   "metadata": {},
   "source": [
    "## 2. Data Import"
   ]
  },
  {
   "cell_type": "code",
   "execution_count": 47,
   "metadata": {},
   "outputs": [],
   "source": [
    "data2 = pd.read_csv(\"National_Import_Export.csv\")\n",
    "# Import Geopandas World Dataset to map countries\n",
    "world = gpd.read_file(gpd.datasets.get_path('naturalearth_lowres'))"
   ]
  },
  {
   "cell_type": "markdown",
   "metadata": {},
   "source": [
    "## 3. Data Wrangling"
   ]
  },
  {
   "cell_type": "code",
   "execution_count": 48,
   "metadata": {},
   "outputs": [],
   "source": [
    "# Make the name of the countries consistent across both datasets\n",
    "country_mapping = {\"Bosnia and Herzegovina\":\"Bosnia and Herz.\", \"Czech Republic\":\"Czech Rep.\", \n",
    "                   \"Dominica\":\"Dominican Rep.\", \"Russian Federation\":\"Russia\"}"
   ]
  },
  {
   "cell_type": "markdown",
   "metadata": {},
   "source": [
    "## 4. Code"
   ]
  },
  {
   "cell_type": "code",
   "execution_count": 67,
   "metadata": {},
   "outputs": [],
   "source": [
    "def mapImportExportByYear(year, category, normalization):\n",
    "    fig, ax = plt.subplots(figsize = (18, 8))\n",
    "    year_subset = data2[data2[\"year\"]==year]\n",
    "    vmin = None\n",
    "    vmax = None\n",
    "    \n",
    "    if normalization and category != \"net(exports-imports)\":\n",
    "        year_subset[category] = year_subset[category]/year_subset[category].sum()\n",
    "        vmin = 0.0\n",
    "        vmax = 0.30\n",
    "        \n",
    "    elif category == \"net(exports-imports)\" and not normalization:\n",
    "        # forcing the center to be zero\n",
    "        vmax = min(year_subset[category].max(),abs(year_subset[category].min()))\n",
    "        vmin = vmax * -1\n",
    "    # this will create a biased normalization since the net pos and net negatives will be different\n",
    "    # but in both cases I am normalizing them down to [-1,1]\n",
    "    elif category == \"net(exports-imports)\" and normalization:\n",
    "        year_subset[category] = year_subset[category]/(year_subset[\"imports\"]+year_subset[\"exports\"])\n",
    "        vmin = -1\n",
    "        vmax = 1\n",
    "            \n",
    "    \n",
    "    data_pivot_total = pd.pivot_table(year_subset, index = \"country\", values = category,\n",
    "                                     aggfunc = \"sum\", fill_value = 0)\n",
    "    \n",
    "    world_subplot = world.merge(data_pivot_total, left_on=\"name\",right_on = \"country\", how=\"left\").fillna(value=0)\n",
    "    print(category)\n",
    "    world_subplot.plot(ax=ax,legend=True,vmin = vmin,vmax=vmax,column=category,cmap=\"coolwarm\",edgecolor = \"0.8\")\n",
    "    \n",
    "    ax.set_xticks([])\n",
    "    ax.set_yticks([])\n",
    "    ax.set_title(\"Year: \" + str(year), fontsize = 20, loc = \"left\")\n",
    "    \n",
    "    #print(\"Top 5 countries\")\n",
    "    \n",
    "    top5 = data_pivot_total.sort_values(by = category , ascending = False)[:5]\n",
    "    i = 1\n",
    "    print(\"Highest 5 - \")\n",
    "    for c, v in zip(top5.index, top5[category].values):\n",
    "        \n",
    "        test = ''\n",
    "        test = str(round(v,3))\n",
    "        if normalization != \"none\":\n",
    "            test = str(round(v*100.0,3))+'%'\n",
    "        print(str(i) + \". \" + str(c) + \" - \" + test)\n",
    "        i += 1\n",
    "    if category == \"net(exports-imports)\" and normalization:\n",
    "        print(\"\\n\\n Lowest 5 - \")\n",
    "        top5 = data_pivot_total.sort_values(by = category , ascending = True)[:5]\n",
    "\n",
    "        i = 1\n",
    "        for c, v in zip(top5.index, top5[category].values):\n",
    "            test = ''\n",
    "            test = str(round(v,3))\n",
    "            if normalization != \"none\":\n",
    "                test = str(round(v*100.0,3))+'%'\n",
    "            print(str(i) + \". \" + str(c) + \" - \" + test)\n",
    "            i += 1\n",
    "    plt.show()\n",
    "\n",
    "mapByYear = interactive(mapImportExportByYear, \n",
    "                        year = widgets.IntSlider(min = 1870, max = 2014, step = 1, value = 10),\n",
    "                        category=widgets.Dropdown(options=[\"imports\",\"exports\",\"net(exports-imports)\",\"imports_yearly_difference\",\"exports_yearly_difference\",\"net(exports-imports)_yearly_difference\"],value=\"imports\",description=\"Display Info: \",disabled=False),\n",
    "                        normalization=widgets.Dropdown(options=[False,True],value=False,description=\"Normalization\",disabled=False))"
   ]
  },
  {
   "cell_type": "markdown",
   "metadata": {},
   "source": [
    "## 5. Visualization"
   ]
  },
  {
   "cell_type": "code",
   "execution_count": 68,
   "metadata": {},
   "outputs": [
    {
     "data": {
      "application/vnd.jupyter.widget-view+json": {
       "model_id": "b474b940b67e469bb641ac7bcd6ffb31",
       "version_major": 2,
       "version_minor": 0
      },
      "text/plain": [
       "interactive(children=(IntSlider(value=1870, description='year', max=2014, min=1870), Dropdown(description='Dis…"
      ]
     },
     "execution_count": 68,
     "metadata": {},
     "output_type": "execute_result"
    }
   ],
   "source": [
    "mapByYear"
   ]
  },
  {
   "cell_type": "code",
   "execution_count": 69,
   "metadata": {},
   "outputs": [],
   "source": [
    "def mapImportExportByYearAnimation(year, category, normalization):\n",
    "    fig, ax = plt.subplots(figsize = (18, 8))\n",
    "    year_subset = data2[data2[\"year\"]==year]\n",
    "    vmin = None\n",
    "    vmax = None\n",
    "    \n",
    "    if normalization and category != \"net(exports-imports)\":\n",
    "        year_subset[category] = year_subset[category]/year_subset[category].sum()\n",
    "        vmin = 0.0\n",
    "        vmax = 0.30\n",
    "        \n",
    "    elif category == \"net(exports-imports)\" and not normalization:\n",
    "        # forcing the center to be zero\n",
    "        vmax = min(year_subset[category].max(),abs(year_subset[category].min()))\n",
    "        vmin = vmax * -1\n",
    "    # this will create a biased normalization since the net pos and net negatives will be different\n",
    "    # but in both cases I am normalizing them down to [-1,1]\n",
    "    elif category == \"net(exports-imports)\" and normalization:\n",
    "        year_subset[category] = year_subset[category]/(year_subset[\"imports\"]+year_subset[\"exports\"])\n",
    "        vmin = -1\n",
    "        vmax = 1\n",
    "            \n",
    "    \n",
    "    data_pivot_total = pd.pivot_table(year_subset, index = \"country\", values = category,\n",
    "                                     aggfunc = \"sum\", fill_value = 0)\n",
    "    \n",
    "    world_subplot = world.merge(data_pivot_total, left_on=\"name\",right_on = \"country\", how=\"left\").fillna(value=0)\n",
    "    print(category)\n",
    "    world_subplot.plot(ax=ax,legend=True,vmin = vmin,vmax=vmax,column=category,cmap=\"coolwarm\",edgecolor = \"0.8\")\n",
    "    \n",
    "    ax.set_xticks([])\n",
    "    ax.set_yticks([])\n",
    "    ax.set_title(\"Year: \" + str(year), fontsize = 20, loc = \"left\")\n",
    "    \n",
    "    #print(\"Top 5 countries\")\n",
    "    \n",
    "    top5 = data_pivot_total.sort_values(by = category , ascending = False)[:5]\n",
    "    i = 1\n",
    "    print(\"Highest 5 - \")\n",
    "    for c, v in zip(top5.index, top5[category].values):\n",
    "        \n",
    "        test = ''\n",
    "        test = str(round(v,3))\n",
    "        if normalization != \"none\":\n",
    "            test = str(round(v*100.0,3))+'%'\n",
    "        print(str(i) + \". \" + str(c) + \" - \" + test)\n",
    "        i += 1\n",
    "    if category == \"net(exports-imports)\" and normalization:\n",
    "        print(\"\\n\\n Lowest 5 - \")\n",
    "        top5 = data_pivot_total.sort_values(by = category , ascending = True)[:5]\n",
    "\n",
    "        i = 1\n",
    "        for c, v in zip(top5.index, top5[category].values):\n",
    "            test = ''\n",
    "            test = str(round(v,3))\n",
    "            if normalization != \"none\":\n",
    "                test = str(round(v*100.0,3))+'%'\n",
    "            print(str(i) + \". \" + str(c) + \" - \" + test)\n",
    "            i += 1\n",
    "    plt.savefig(\"./net_range_normalization/\"+category+'_'+str(year)+'.png')\n",
    "    \n",
    "mapByYearAnimation = interactive(mapImportExportByYearAnimation, \n",
    "                        year = widgets.IntSlider(min = 1870, max = 2014, step = 1, value = 10),\n",
    "                        category=widgets.Dropdown(options=[\"imports\",\"exports\",\"net(exports-imports)\",\"imports_yearly_difference\",\"exports_yearly_difference\",\"net(exports-imports)_yearly_difference\"],value=\"imports\",description=\"Display Info: \",disabled=False),\n",
    "                        normalization=widgets.Dropdown(options=[False,True],value=False,description=\"Normalization\",disabled=False))"
   ]
  },
  {
   "cell_type": "code",
   "execution_count": 70,
   "metadata": {},
   "outputs": [
    {
     "data": {
      "application/vnd.jupyter.widget-view+json": {
       "model_id": "f131ae304f0b4750acbd023ee35c83a5",
       "version_major": 2,
       "version_minor": 0
      },
      "text/plain": [
       "interactive(children=(IntSlider(value=1870, description='year', max=2014, min=1870), Dropdown(description='Dis…"
      ]
     },
     "execution_count": 70,
     "metadata": {},
     "output_type": "execute_result"
    }
   ],
   "source": [
    "mapByYearAnimation"
   ]
  },
  {
   "cell_type": "markdown",
   "metadata": {},
   "source": [
    "# Line Graphs"
   ]
  },
  {
   "cell_type": "code",
   "execution_count": 60,
   "metadata": {},
   "outputs": [
    {
     "data": {
      "text/plain": [
       "Text(0, 0.5, 'net(exports-imports)')"
      ]
     },
     "execution_count": 60,
     "metadata": {},
     "output_type": "execute_result"
    },
    {
     "data": {
      "image/png": "[encoded data removed]",
      "text/plain": [
       "<Figure size 640x480 with 1 Axes>"
      ]
     },
     "metadata": {},
     "output_type": "display_data"
    }
   ],
   "source": [
    "country = \"United States of America\"\n",
    "category = \"net(exports-imports)\"\n",
    "plt.figure()\n",
    "plt.plot(data2[data2[\"country\"] == country][\"year\"],data2[data2[\"country\"] == country][category])\n",
    "plt.title(country + ' ' + category +\" vs. Time\")\n",
    "plt.xlabel(\"Year\")\n",
    "plt.ylabel(category)"
   ]
  },
  {
   "cell_type": "code",
   "execution_count": null,
   "metadata": {},
   "outputs": [],
   "source": []
  }
 ],
 "metadata": {
  "kernelspec": {
   "display_name": "Python 3 (ipykernel)",
   "language": "python",
   "name": "python3"
  },
  "language_info": {
   "codemirror_mode": {
    "name": "ipython",
    "version": 3
   },
   "file_extension": ".py",
   "mimetype": "text/x-python",
   "name": "python",
   "nbconvert_exporter": "python",
   "pygments_lexer": "ipython3",
   "version": "3.9.13"
  }
 },
 "nbformat": 4,
 "nbformat_minor": 1
}
