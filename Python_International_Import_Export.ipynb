{
 "cells": [
  {
   "cell_type": "markdown",
   "metadata": {},
   "source": [
    "-- Jelena Lor --\n",
    "\n",
    "I am finance professional passionate about Data Science/ Analytics.\n",
    "\n",
    "_May 2019_\n",
    "\n",
    "This is my first attempt at this dataset. I am trying to get better at analyzing and visualizing data. Here I am exploring interactive charts capabilities. <br> \n",
    "Unfortunately interactive widgets do not work with Kaggle servers but you can run it locally to explore the visualizations.\n",
    "<br>\n",
    "<br>\n",
    "Any feedback or comments are highly appreciated!\n"
   ]
  },
  {
   "cell_type": "markdown",
   "metadata": {},
   "source": [
    "-- Jacob Ayers --\n",
    "<br>\n",
    "_October_2022_\n",
    "<br>\n",
    "Lightly modified for the Correlates of War project's Trade (v4.0) dataset"
   ]
  },
  {
   "cell_type": "markdown",
   "metadata": {},
   "source": [
    "__Table of Content__\n",
    "\n",
    "1. Library Import\n",
    "2. Data Import\n",
    "3. Data Wrangling\n",
    "4. Code\n",
    "5. Visualisation"
   ]
  },
  {
   "cell_type": "markdown",
   "metadata": {},
   "source": [
    "\n"
   ]
  },
  {
   "cell_type": "markdown",
   "metadata": {},
   "source": [
    "##  Library Import"
   ]
  },
  {
   "cell_type": "code",
   "execution_count": 1,
   "metadata": {},
   "outputs": [],
   "source": [
    "import pandas as pd\n",
    "import numpy as np\n",
    "import seaborn as sns\n",
    "sns.set_style(\"whitegrid\",{'axes.axisbelow': False,'grid.color': 'w','axes.spines.bottom': False, 'axes.spines.left': False, 'axes.spines.right': False,\n",
    " 'axes.spines.top': False})\n",
    "import matplotlib.pyplot as plt\n",
    "from ipywidgets import interact, interactive, widgets, Layout, fixed\n",
    "import geopandas as gpd"
   ]
  },
  {
   "cell_type": "markdown",
   "metadata": {},
   "source": [
    "##  Data Import"
   ]
  },
  {
   "cell_type": "code",
   "execution_count": 2,
   "metadata": {},
   "outputs": [],
   "source": [
    "data = pd.read_csv(\"National_Import_Export.csv\")\n"
   ]
  },
  {
   "cell_type": "markdown",
   "metadata": {},
   "source": [
    "##  Code"
   ]
  },
  {
   "cell_type": "code",
   "execution_count": 11,
   "metadata": {},
   "outputs": [],
   "source": [
    "def mapImportExportByYear(data, year, category, normalization):\n",
    "    # Import Geopandas World Dataset to map countries\n",
    "    world = gpd.read_file(gpd.datasets.get_path('naturalearth_lowres'))\n",
    "    # testing out a different projection, this one will drop Antarctica\n",
    "    world = world[(world.name != \"Antarctica\") & (world.name != \"Fr. S. Antarctic Lands\")]\n",
    "\n",
    "    world = world.to_crs(\"EPSG:3395\")\n",
    "    fig, (ax,ax2) = plt.subplots(2,1, figsize=(12,12), gridspec_kw = {'height_ratios': [4, 1],'width_ratios':[1]})\n",
    "    year_subset = data[data[\"year\"]==year]\n",
    "    vmin = None\n",
    "    vmax = None\n",
    "    \n",
    "    if normalization and (category == \"imports\" or category == \"exports\"):\n",
    "        year_subset[category] = year_subset[category]/year_subset[category].sum()\n",
    "        vmin = 0.0\n",
    "        vmax = 0.30\n",
    "    elif normalization and category == \"imports_yearly_difference\":\n",
    "        category = \"imports_yearly_percentage_difference\"\n",
    "        vmin = -1.0\n",
    "        vmax = 1.0\n",
    "        \n",
    "    elif normalization and category == \"exports_yearly_difference\":\n",
    "        category = \"exports_yearly_percentage_difference\"\n",
    "        vmin = -1.0\n",
    "        vmax = 1.0\n",
    "        \n",
    "        \n",
    "    elif category == \"net(exports-imports)\" and not normalization:\n",
    "        # forcing the center to be zero\n",
    "        vmax = min(year_subset[category].max(),abs(year_subset[category].min()))\n",
    "        vmin = vmax * -1\n",
    "    # this will create a biased normalization since the net pos and net negatives will be different\n",
    "    # but in both cases I am normalizing them down to [-1,1]\n",
    "    elif category == \"net(exports-imports)\" and normalization:\n",
    "        year_subset[category] = year_subset[category]/(year_subset[\"imports\"]+year_subset[\"exports\"])\n",
    "        vmin = -1\n",
    "        vmax = 1\n",
    "            \n",
    "    \n",
    "    data_pivot_total = pd.pivot_table(year_subset, index = \"country\", values = category,\n",
    "                                     aggfunc = \"sum\", fill_value = 0)\n",
    "    \n",
    "    world_subplot = world.merge(data_pivot_total, left_on=\"name\",right_on = \"country\", how=\"left\").fillna(value=0)\n",
    "    print(category)\n",
    "    world_subplot.plot(ax=ax,legend=True,vmin = vmin,vmax=vmax,column=category,cmap=\"coolwarm\",edgecolor = 'black')\n",
    "    \n",
    "    ax.set_xticks([])\n",
    "    ax.set_yticks([])\n",
    "    #ax.set_title(\"Year: \" + str(year), fontsize = 20, loc = \"left\")\n",
    "    \n",
    "    ax2.set_xlim(data[\"year\"].min(),data[\"year\"].max())\n",
    "    ax2.set_ylim(0,10)\n",
    "    y = 5\n",
    "    plt.hlines(y,data[\"year\"].min(),data[\"year\"].max())\n",
    "    plt.vlines(data[\"year\"].min(), y - 4 / 2., y + 4 / 2.)\n",
    "    plt.vlines(data[\"year\"].max(), y - 4 / 2., y + 4 / 2.)\n",
    "    plt.plot(year,y,'ro',ms=12, mfc='r')\n",
    "    plt.text(data[\"year\"].min() - 0.4, y, str(data[\"year\"].min()), horizontalalignment='right')\n",
    "    plt.text(data[\"year\"].max() + 0.4, y, str(data[\"year\"].max()), horizontalalignment='left')\n",
    "    ax2.get_yaxis().set_visible(False)\n",
    "    ax2.get_xaxis().set_visible(False)\n",
    "    plt.annotate(str(year),(year,y), xytext = (year,y-3))\n",
    "    plt.annotate('Year:',(data[\"year\"].min(),y), xytext = (data[\"year\"].min()-6,y-3))\n",
    "    \n",
    "    \n",
    "    \n",
    "    #print(\"Top 5 countries\")\n",
    "    \n",
    "    top5 = data_pivot_total.sort_values(by = category , ascending = False)[:5]\n",
    "    i = 1\n",
    "    print(\"Highest 5 - \")\n",
    "    for c, v in zip(top5.index, top5[category].values):\n",
    "        \n",
    "        test = ''\n",
    "        test = str(round(v,3))\n",
    "        if normalization:\n",
    "            test = str(round(v*100.0,3))+'%'\n",
    "        print(str(i) + \". \" + str(c) + \" - \" + test)\n",
    "        i += 1\n",
    "    if category == \"net(exports-imports)\" and normalization:\n",
    "        print(\"\\n\\n Lowest 5 - \")\n",
    "        top5 = data_pivot_total.sort_values(by = category , ascending = True)[:5]\n",
    "\n",
    "        i = 1\n",
    "        for c, v in zip(top5.index, top5[category].values):\n",
    "            test = ''\n",
    "            test = str(round(v,3))\n",
    "            if normalization:\n",
    "                test = str(round(v*100.0,3))+'%'\n",
    "            print(str(i) + \". \" + str(c) + \" - \" + test)\n",
    "            i += 1\n",
    "    \n",
    "    plt.show()\n",
    "\n",
    "mapByYear = interactive(mapImportExportByYear,data=fixed(data), \n",
    "                        year = widgets.IntSlider(min = 1870, max = 2014, step = 1, value = 10),\n",
    "                        category=widgets.Dropdown(options=[\"imports\",\"exports\",\"net(exports-imports)\",\"imports_yearly_difference\",\"exports_yearly_difference\"],value=\"imports\",description=\"Display Info: \",disabled=False),\n",
    "                        normalization=widgets.Dropdown(options=[False,True],value=False,description=\"Normalization\",disabled=False))"
   ]
  },
  {
   "cell_type": "markdown",
   "metadata": {},
   "source": [
    "##  Visualization"
   ]
  },
  {
   "cell_type": "code",
   "execution_count": 12,
   "metadata": {},
   "outputs": [
    {
     "data": {
      "application/vnd.jupyter.widget-view+json": {
       "model_id": "14090f6e819e4bb08a3c16d440968680",
       "version_major": 2,
       "version_minor": 0
      },
      "text/plain": [
       "interactive(children=(IntSlider(value=1870, description='year', max=2014, min=1870), Dropdown(description='Dis…"
      ]
     },
     "execution_count": 12,
     "metadata": {},
     "output_type": "execute_result"
    }
   ],
   "source": [
    "mapByYear"
   ]
  },
  {
   "cell_type": "markdown",
   "metadata": {},
   "source": [
    "## Animation"
   ]
  },
  {
   "cell_type": "code",
   "execution_count": 26,
   "metadata": {},
   "outputs": [],
   "source": [
    "def mapImportExportByYearAnimation(data,year, category, normalization):\n",
    "    # Import Geopandas World Dataset to map countries\n",
    "    world = gpd.read_file(gpd.datasets.get_path('naturalearth_lowres'))\n",
    "    # testing out a different projection, this one will drop Antarctica\n",
    "    world = world[(world.name != \"Antarctica\") & (world.name != \"Fr. S. Antarctic Lands\")]\n",
    "\n",
    "    world = world.to_crs(\"EPSG:3395\")\n",
    "    fig, (ax,ax2) = plt.subplots(2,1, figsize=(12,12), gridspec_kw = {'height_ratios': [4, 1],'width_ratios':[1]})\n",
    "    year_subset = data[data[\"year\"]==year]\n",
    "    vmin = None\n",
    "    vmax = None\n",
    "    \n",
    "    if normalization and (category == \"imports\" or category == \"exports\"):\n",
    "        year_subset[category] = year_subset[category]/year_subset[category].sum()\n",
    "        vmin = 0.0\n",
    "        vmax = 0.30\n",
    "    elif normalization and category == \"imports_yearly_difference\":\n",
    "        category = \"imports_yearly_percentage_difference\"\n",
    "        vmin = -1.0\n",
    "        vmax = 1.0\n",
    "        \n",
    "    elif normalization and category == \"exports_yearly_difference\":\n",
    "        category = \"exports_yearly_percentage_difference\"\n",
    "        vmin = -1.0\n",
    "        vmax = 1.0\n",
    "        \n",
    "        \n",
    "    elif category == \"net(exports-imports)\" and not normalization:\n",
    "        # forcing the center to be zero\n",
    "        vmax = min(year_subset[category].max(),abs(year_subset[category].min()))\n",
    "        vmin = vmax * -1\n",
    "    # this will create a biased normalization since the net pos and net negatives will be different\n",
    "    # but in both cases I am normalizing them down to [-1,1]\n",
    "    elif category == \"net(exports-imports)\" and normalization:\n",
    "        year_subset[category] = year_subset[category]/(year_subset[\"imports\"]+year_subset[\"exports\"])\n",
    "        vmin = -1\n",
    "        vmax = 1\n",
    "            \n",
    "    \n",
    "    data_pivot_total = pd.pivot_table(year_subset, index = \"country\", values = category,\n",
    "                                     aggfunc = \"sum\", fill_value = 0)\n",
    "    \n",
    "    world_subplot = world.merge(data_pivot_total, left_on=\"name\",right_on = \"country\", how=\"left\").fillna(value=0)\n",
    "    print(category)\n",
    "    world_subplot.plot(ax=ax,legend=True,vmin = vmin,vmax=vmax,column=category,cmap=\"coolwarm\",edgecolor = 'black')\n",
    "    \n",
    "    ax.set_xticks([])\n",
    "    ax.set_yticks([])\n",
    "    normalize_str = ''\n",
    "    if normalization:\n",
    "        normalize_str = \" Normalized\"\n",
    "    ax.set_title(\"Category: \" + category + normalize_str, fontsize = 20, loc = \"left\")\n",
    "    \n",
    "    ax2.set_xlim(data[\"year\"].min(),data[\"year\"].max())\n",
    "    ax2.set_ylim(0,10)\n",
    "    y = 5\n",
    "    plt.hlines(y,data[\"year\"].min(),data[\"year\"].max())\n",
    "    plt.vlines(data[\"year\"].min(), y - 4 / 2., y + 4 / 2.)\n",
    "    plt.vlines(data[\"year\"].max(), y - 4 / 2., y + 4 / 2.)\n",
    "    plt.plot(year,y,'ro', mfc='r')\n",
    "    plt.text(data[\"year\"].min() - 0.4, y, str(data[\"year\"].min()), horizontalalignment='right')\n",
    "    plt.text(data[\"year\"].max() + 0.4, y, str(data[\"year\"].max()), horizontalalignment='left')\n",
    "    ax2.get_yaxis().set_visible(False)\n",
    "    ax2.get_xaxis().set_visible(False)\n",
    "    plt.annotate(str(year),(year,y), xytext = (year,y-4))\n",
    "    plt.annotate('Year:',(data[\"year\"].min(),y), xytext = (data[\"year\"].min()-9,y-4))\n",
    "    \n",
    "    \n",
    "    \n",
    "    #print(\"Top 5 countries\")\n",
    "    \n",
    "    top5 = data_pivot_total.sort_values(by = category , ascending = False)[:5]\n",
    "    i = 1\n",
    "    print(\"Highest 5 - \")\n",
    "    for c, v in zip(top5.index, top5[category].values):\n",
    "        \n",
    "        test = ''\n",
    "        test = str(round(v,3))\n",
    "        if normalization:\n",
    "            test = str(round(v*100.0,3))+'%'\n",
    "        print(str(i) + \". \" + str(c) + \" - \" + test)\n",
    "        i += 1\n",
    "    if category == \"net(exports-imports)\" and normalization:\n",
    "        print(\"\\n\\n Lowest 5 - \")\n",
    "        top5 = data_pivot_total.sort_values(by = category , ascending = True)[:5]\n",
    "\n",
    "        i = 1\n",
    "        for c, v in zip(top5.index, top5[category].values):\n",
    "            test = ''\n",
    "            test = str(round(v,3))\n",
    "            if normalization != \"none\":\n",
    "                test = str(round(v*100.0,3))+'%'\n",
    "            print(str(i) + \". \" + str(c) + \" - \" + test)\n",
    "            i += 1\n",
    "    \n",
    "    plt.savefig(\"./net_mercador_normalized/\"+category+'_'+str(year)+'.png')\n",
    "    \n",
    "mapByYearAnimation = interactive(mapImportExportByYearAnimation, data=fixed(data),\n",
    "                        year = widgets.IntSlider(min = 1870, max = 2014, step = 1, value = 10),\n",
    "                        category=widgets.Dropdown(options=[\"imports\",\"exports\",\"net(exports-imports)\",\"imports_yearly_difference\",\"exports_yearly_difference\"],value=\"imports\",description=\"Display Info: \",disabled=False),\n",
    "                        normalization=widgets.Dropdown(options=[False,True],value=False,description=\"Normalization\",disabled=False))"
   ]
  },
  {
   "cell_type": "code",
   "execution_count": 27,
   "metadata": {},
   "outputs": [
    {
     "data": {
      "application/vnd.jupyter.widget-view+json": {
       "model_id": "4d6f0497aaf44b2fa3f80d3ec1535034",
       "version_major": 2,
       "version_minor": 0
      },
      "text/plain": [
       "interactive(children=(IntSlider(value=1870, description='year', max=2014, min=1870), Dropdown(description='Dis…"
      ]
     },
     "execution_count": 27,
     "metadata": {},
     "output_type": "execute_result"
    }
   ],
   "source": [
    "mapByYearAnimation"
   ]
  },
  {
   "cell_type": "markdown",
   "metadata": {},
   "source": [
    "# Line Graphs"
   ]
  },
  {
   "cell_type": "code",
   "execution_count": 33,
   "metadata": {},
   "outputs": [
    {
     "data": {
      "image/png": "[encoded data removed]",
      "text/plain": [
       "<Figure size 640x480 with 1 Axes>"
      ]
     },
     "metadata": {},
     "output_type": "display_data"
    }
   ],
   "source": [
    "country = \"Vietnam\"\n",
    "category = \"net(exports-imports)\"\n",
    "plt.figure()\n",
    "plt.plot(data[data[\"country\"] == country][\"year\"],data[data[\"country\"] == country][category]/(data[data[\"country\"] == country][\"imports\"]+data[data[\"country\"] == country][\"exports\"]))\n",
    "plt.title(country + ' ' + category +\" vs. Time\")\n",
    "plt.xlabel(\"Year\")\n",
    "plt.hlines(0,1960,2014)\n",
    "plt.vlines(1964,-1,-0.9,colors='r')\n",
    "plt.vlines(1973,-1,-0.9,colors='r')\n",
    "plt.ylim(-1,0.25)\n",
    "plt.ylabel(category + \" Normalized\")\n",
    "plt.annotate(\"1964 Gulf of Tonkin\\n Resolution\",xy=(1964,-.95),\n",
    "            xytext=(1965,-0.45),\n",
    "            arrowprops = dict(facecolor='black',shrink=0.1))\n",
    "plt.annotate(\"1973 Paris Peace Accords\",xy=(1973,-.98),\n",
    "            xytext=(1980,-0.97),\n",
    "            arrowprops = dict(facecolor='black',shrink=0.1))\n",
    "plt.savefig(\"vietnam_imports.png\")"
   ]
  },
  {
   "cell_type": "code",
   "execution_count": null,
   "metadata": {},
   "outputs": [],
   "source": []
  }
 ],
 "metadata": {
  "kernelspec": {
   "display_name": "Python 3 (ipykernel)",
   "language": "python",
   "name": "python3"
  },
  "language_info": {
   "codemirror_mode": {
    "name": "ipython",
    "version": 3
   },
   "file_extension": ".py",
   "mimetype": "text/x-python",
   "name": "python",
   "nbconvert_exporter": "python",
   "pygments_lexer": "ipython3",
   "version": "3.9.13"
  }
 },
 "nbformat": 4,
 "nbformat_minor": 1
}
