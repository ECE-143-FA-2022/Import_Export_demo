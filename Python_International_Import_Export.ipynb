{
 "cells": [
  {
   "cell_type": "markdown",
   "metadata": {},
   "source": [
    "-- Jelena Lor --\n",
    "\n",
    "I am finance professional passionate about Data Science/ Analytics.\n",
    "\n",
    "_May 2019_\n",
    "\n",
    "This is my first attempt at this dataset. I am trying to get better at analyzing and visualizing data. Here I am exploring interactive charts capabilities. <br> \n",
    "Unfortunately interactive widgets do not work with Kaggle servers but you can run it locally to explore the visualizations.\n",
    "<br>\n",
    "<br>\n",
    "Any feedback or comments are highly appreciated!\n"
   ]
  },
  {
   "cell_type": "markdown",
   "metadata": {},
   "source": [
    "-- Jacob Ayers --\n",
    "<br>\n",
    "_October_2022_\n",
    "<br>\n",
    "Lightly modified for the Correlates of War project's Trade (v4.0) dataset"
   ]
  },
  {
   "cell_type": "markdown",
   "metadata": {},
   "source": [
    "__Table of Content__\n",
    "\n",
    "1. Library Import\n",
    "2. Data Import\n",
    "3. Data Wrangling\n",
    "4. Code\n",
    "5. Visualisation"
   ]
  },
  {
   "cell_type": "markdown",
   "metadata": {},
   "source": [
    "\n"
   ]
  },
  {
   "cell_type": "markdown",
   "metadata": {},
   "source": [
    "## 1. Library Import"
   ]
  },
  {
   "cell_type": "code",
   "execution_count": 1,
   "metadata": {},
   "outputs": [],
   "source": [
    "import pandas as pd\n",
    "import numpy as np\n",
    "import seaborn as sns\n",
    "sns.set_style(\"whitegrid\",{'axes.axisbelow': False,'grid.color': 'w','axes.spines.bottom': False, 'axes.spines.left': False, 'axes.spines.right': False,\n",
    " 'axes.spines.top': False})\n",
    "import matplotlib.pyplot as plt\n",
    "from ipywidgets import interact, interactive, widgets, Layout\n",
    "import geopandas as gpd"
   ]
  },
  {
   "cell_type": "markdown",
   "metadata": {},
   "source": [
    "## 2. Data Import"
   ]
  },
  {
   "cell_type": "code",
   "execution_count": 2,
   "metadata": {},
   "outputs": [],
   "source": [
    "data2 = pd.read_csv(\"National_Import_Export.csv\")\n",
    "# Import Geopandas World Dataset to map countries\n",
    "world = gpd.read_file(gpd.datasets.get_path('naturalearth_lowres'))"
   ]
  },
  {
   "cell_type": "markdown",
   "metadata": {},
   "source": [
    "## 3. Data Wrangling"
   ]
  },
  {
   "cell_type": "code",
   "execution_count": 3,
   "metadata": {},
   "outputs": [],
   "source": [
    "# Make the name of the countries consistent across both datasets\n",
    "country_mapping = {\"Bosnia and Herzegovina\":\"Bosnia and Herz.\", \"Czech Republic\":\"Czech Rep.\", \n",
    "                   \"Dominica\":\"Dominican Rep.\", \"Russian Federation\":\"Russia\"}"
   ]
  },
  {
   "cell_type": "markdown",
   "metadata": {},
   "source": [
    "## 4. Code"
   ]
  },
  {
   "cell_type": "code",
   "execution_count": 4,
   "metadata": {},
   "outputs": [],
   "source": [
    "def mapImportExportByYear(year, category):\n",
    "    fig, ax = plt.subplots(figsize = (18, 8))\n",
    "    data_pivot_total = pd.pivot_table(data2[data2[\"year\"] == year], index = \"country\", values = category,\n",
    "                                     aggfunc = \"sum\", fill_value = 0)\n",
    "    world_subplot = world.merge(data_pivot_total, left_on=\"name\",right_on = \"country\", how=\"left\").fillna(value=0)\n",
    "    world_subplot.plot(ax=ax,column=category,legend=True,cmap=\"YlGn\",edgecolor = \"0.8\")\n",
    "    ax.set_xticks([])\n",
    "    ax.set_yticks([])\n",
    "    ax.set_title(\"Year: \" + str(year), fontsize = 20, loc = \"left\")\n",
    "    \n",
    "    #print(\"Top 5 countries\")\n",
    "    top5 = data_pivot_total.sort_values(by = category , ascending = False)[:5]\n",
    "    i = 1\n",
    "    for c, v in zip(top5.index, top5[category].values):\n",
    "        print(str(i) + \". \" + str(c) + \" - \" + str(int(v)))\n",
    "        i += 1\n",
    "    plt.show()\n",
    "mapByYear = interactive(mapImportExportByYear, \n",
    "                        year = widgets.IntSlider(min = 1870, max = 2014, step = 1, value = 10),\n",
    "                        category=widgets.Dropdown(options=[\"imports\",\"exports\",\"net\"],value=\"imports\",description=\"Display Info: \",disabled=False))"
   ]
  },
  {
   "cell_type": "markdown",
   "metadata": {},
   "source": [
    "## 5. Visualization"
   ]
  },
  {
   "cell_type": "markdown",
   "metadata": {},
   "source": [
    "Vis. 1 - Use the slider to explore how the suicide rates (suicides/100k pop) by country change through time (every 3 year interval) between 1985 and 2015."
   ]
  },
  {
   "cell_type": "code",
   "execution_count": 5,
   "metadata": {},
   "outputs": [
    {
     "data": {
      "application/vnd.jupyter.widget-view+json": {
       "model_id": "a853267be4b84254b5c5f044c912a72f",
       "version_major": 2,
       "version_minor": 0
      },
      "text/plain": [
       "interactive(children=(IntSlider(value=1870, description='year', max=2014, min=1870), Dropdown(description='Dis…"
      ]
     },
     "execution_count": 5,
     "metadata": {},
     "output_type": "execute_result"
    }
   ],
   "source": [
    "mapByYear"
   ]
  }
 ],
 "metadata": {
  "kernelspec": {
   "display_name": "Python 3 (ipykernel)",
   "language": "python",
   "name": "python3"
  },
  "language_info": {
   "codemirror_mode": {
    "name": "ipython",
    "version": 3
   },
   "file_extension": ".py",
   "mimetype": "text/x-python",
   "name": "python",
   "nbconvert_exporter": "python",
   "pygments_lexer": "ipython3",
   "version": "3.9.13"
  }
 },
 "nbformat": 4,
 "nbformat_minor": 1
}
